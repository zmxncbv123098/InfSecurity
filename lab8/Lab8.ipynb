{
 "cells": [
  {
   "cell_type": "code",
   "execution_count": 1,
   "metadata": {},
   "outputs": [],
   "source": [
    "import numpy as np\n",
    "\n",
    "np.random.seed(31415)"
   ]
  },
  {
   "cell_type": "code",
   "execution_count": 2,
   "metadata": {},
   "outputs": [],
   "source": [
    "def encryption(text1, text2):\n",
    "    print(\"Открытый 1ый текст: \", text1)\n",
    "    # Задам массив из символов открытого 1го текста в шестнадцатеричном представлении:\n",
    "    text_array1 = []\n",
    "    for i in text1:\n",
    "        text_array1.append(i.encode(\"cp1251\").hex())\n",
    "    print(\"\\nОткрый 1ый текст в шестнадцатеричном представлении: \", *text_array1)\n",
    "    \n",
    "    print(\"\\nОткрытый 2ой текст: \", text2)\n",
    "    # Задам массив из символов открытого 2го текста в шестнадцатеричном представлении:\n",
    "    text_array2 = []\n",
    "    for i in text2:\n",
    "        text_array2.append(i.encode(\"cp1251\").hex())\n",
    "    print(\"\\nОткрый 2ой текст в шестнадцатеричном представлении: \", *text_array2)\n",
    "    \n",
    "    # Задам случайно сгенерированный ключ в шестнадцатеричном представлении:\n",
    "    key_dec = np.random.randint(0, 255, len(text1))\n",
    "    key_hex = [hex(i)[2:] for i in key_dec]\n",
    "    print(\"\\nКлюч в шестнадцатеричном представлении: \", *key_hex)\n",
    "    \n",
    "    # Задам зашифрованный 1ый текст в шетснадцатеричном представлении:\n",
    "    crypt_text1 = []\n",
    "    for i in range(len(text_array1)):\n",
    "        crypt_text1.append(\"{:02x}\".format(int(text_array1[i], 16) ^ int(key_hex[i], 16)))\n",
    "    print(\"\\nЗашифрованный 1ый текст в шестндцатеричном представлении: \", *crypt_text1)\n",
    "    \n",
    "    # Задам зашифрованный 2ой текст в шетснадцатеричном представлении:\n",
    "    crypt_text2 = []\n",
    "    for i in range(len(text_array2)):\n",
    "        crypt_text2.append(\"{:02x}\".format(int(text_array2[i], 16) ^ int(key_hex[i], 16)))\n",
    "    print(\"\\nЗашифрованный 2ой текст в шестндцатеричном представлении: \", *crypt_text2)\n",
    "    \n",
    "    # Задам зашифрованный 1ый текст в обычном представлении:\n",
    "    final_text1 = bytearray.fromhex(\"\".join(crypt_text1)).decode(\"cp1251\")\n",
    "    print(\"\\nЗашифрованный 1ый текст: \", final_text1)\n",
    "    \n",
    "    # Задам зашифрованный 2ой текст в обычном представлении:\n",
    "    final_text2 = bytearray.fromhex(\"\".join(crypt_text2)).decode(\"cp1251\")\n",
    "    print(\"\\nЗашифрованный 2ой текст: \", final_text2)\n",
    "    \n",
    "    return key_hex, final_text1, final_text2"
   ]
  },
  {
   "cell_type": "code",
   "execution_count": 3,
   "metadata": {},
   "outputs": [],
   "source": [
    "def decryption(cr_text1, cr_text2, op_text1):\n",
    "    print(\"\\nЗашифрованный 1ый текст: \", cr_text1)\n",
    "    print(\"\\nЗашифрованный 2ой текст: \", cr_text2)\n",
    "    print(\"Открытый 1ый текст: \", op_text1)\n",
    "    \n",
    "    cr_text_hex1 = []\n",
    "    for i in cr_text1:\n",
    "        cr_text_hex1.append(i.encode(\"cp1251\").hex())\n",
    "    print(\"\\nЗашифрованный 1ый текст в 16ом представлении: \", *cr_text_hex1)\n",
    "    \n",
    "    cr_text_hex2 = []\n",
    "    for i in cr_text2:\n",
    "        cr_text_hex2.append(i.encode(\"cp1251\").hex())\n",
    "    print(\"\\nЗашифрованный 2ой текст в 16ом представлении: \", *cr_text_hex2)\n",
    "    \n",
    "    op_text_hex1 = []\n",
    "    for i in op_text1:\n",
    "        op_text_hex1.append(i.encode(\"cp1251\").hex())\n",
    "    print(\"\\nОткрытый 1ый текст в 16ом представлении: \", *op_text_hex1)\n",
    "    \n",
    "    cr1_cr2 = []\n",
    "    op_text_hex2 = []\n",
    "    for i in range(len(op_text1)):\n",
    "        cr1_cr2.append(\"{:02x}\".format(int(cr_text_hex1[i],16) ^ int(cr_text_hex2[i],16)))\n",
    "        op_text_hex2.append(\"{:02x}\".format(int(cr1_cr2[i], 16) ^ int(op_text_hex1[i], 16)))\n",
    "    \n",
    "    print(\"Открытый 2ой текст в 16ом представлении: \", *op_text_hex2)\n",
    "    op_text2 = bytearray.fromhex(\"\".join(op_text_hex2)).decode(\"cp1251\")\n",
    "    print(\"Откртый 2ой текст: \", op_text2)\n",
    "    return op_text2"
   ]
  },
  {
   "cell_type": "code",
   "execution_count": 4,
   "metadata": {},
   "outputs": [
    {
     "name": "stdout",
     "output_type": "stream",
     "text": [
      "Открытый 1ый текст:  НаВашисходящийот1204\n",
      "\n",
      "Открый 1ый текст в шестнадцатеричном представлении:  cd e0 c2 e0 f8 e8 f1 f5 ee e4 ff f9 e8 e9 ee f2 31 32 30 34\n",
      "\n",
      "Открытый 2ой текст:  ВСеверныйфилиалБанка\n",
      "\n",
      "Открый 2ой текст в шестнадцатеричном представлении:  c2 d1 e5 e2 e5 f0 ed fb e9 f4 e8 eb e8 e0 eb c1 e0 ed ea e0\n",
      "\n",
      "Ключ в шестнадцатеричном представлении:  3e a7 e3 d 65 a8 f2 86 6 e3 1e 55 e 66 70 70 88 d3 a6 3a\n",
      "\n",
      "Зашифрованный 1ый текст в шестндцатеричном представлении:  f3 47 21 ed 9d 40 03 73 e8 07 e1 ac e6 8f 9e 82 b9 e1 96 0e\n",
      "\n",
      "Зашифрованный 2ой текст в шестндцатеричном представлении:  fc 76 06 ef 80 58 1f 7d ef 17 f6 be e6 86 9b b1 68 3e 4c da\n",
      "\n",
      "Зашифрованный 1ый текст:  уG!нќ@\u0003sи\u0007б¬жЏћ‚№б–\u000e\n",
      "\n",
      "Зашифрованный 2ой текст:  ьv\u0006пЂX\u001f}п\u0017цѕж†›±h>LЪ\n"
     ]
    }
   ],
   "source": [
    "#Изначальные фразы:\n",
    "p1 = \"НаВашисходящийот1204\"\n",
    "p2 = \"ВСеверныйфилиалБанка\"\n",
    "key, res1, res2 = encryption(p1, p2)\n"
   ]
  },
  {
   "cell_type": "code",
   "execution_count": 7,
   "metadata": {},
   "outputs": [
    {
     "name": "stdout",
     "output_type": "stream",
     "text": [
      "\n",
      "Зашифрованный 1ый текст:  уG!нќ@\u0003sи\u0007б¬жЏћ‚№б–\u000e\n",
      "\n",
      "Зашифрованный 2ой текст:  ьv\u0006пЂX\u001f}п\u0017цѕж†›±h>LЪ\n",
      "Открытый 1ый текст:  НаВашисходящийот1204\n",
      "\n",
      "Зашифрованный 1ый текст в 16ом представлении:  f3 47 21 ed 9d 40 03 73 e8 07 e1 ac e6 8f 9e 82 b9 e1 96 0e\n",
      "\n",
      "Зашифрованный 2ой текст в 16ом представлении:  fc 76 06 ef 80 58 1f 7d ef 17 f6 be e6 86 9b b1 68 3e 4c da\n",
      "\n",
      "Открытый 1ый текст в 16ом представлении:  cd e0 c2 e0 f8 e8 f1 f5 ee e4 ff f9 e8 e9 ee f2 31 32 30 34\n",
      "Открытый 2ой текст в 16ом представлении:  c2 d1 e5 e2 e5 f0 ed fb e9 f4 e8 eb e8 e0 eb c1 e0 ed ea e0\n",
      "Откртый 2ой текст:  ВСеверныйфилиалБанка\n"
     ]
    }
   ],
   "source": [
    "text2 = decryption(res1, res2, p1)"
   ]
  },
  {
   "cell_type": "code",
   "execution_count": 8,
   "metadata": {},
   "outputs": [
    {
     "name": "stdout",
     "output_type": "stream",
     "text": [
      "\n",
      "Зашифрованный 1ый текст:  ьv\u0006пЂX\u001f}п\u0017цѕж†›±h>LЪ\n",
      "\n",
      "Зашифрованный 2ой текст:  уG!нќ@\u0003sи\u0007б¬жЏћ‚№б–\u000e\n",
      "Открытый 1ый текст:  ВСеверныйфилиалБанка\n",
      "\n",
      "Зашифрованный 1ый текст в 16ом представлении:  fc 76 06 ef 80 58 1f 7d ef 17 f6 be e6 86 9b b1 68 3e 4c da\n",
      "\n",
      "Зашифрованный 2ой текст в 16ом представлении:  f3 47 21 ed 9d 40 03 73 e8 07 e1 ac e6 8f 9e 82 b9 e1 96 0e\n",
      "\n",
      "Открытый 1ый текст в 16ом представлении:  c2 d1 e5 e2 e5 f0 ed fb e9 f4 e8 eb e8 e0 eb c1 e0 ed ea e0\n",
      "Открытый 2ой текст в 16ом представлении:  cd e0 c2 e0 f8 e8 f1 f5 ee e4 ff f9 e8 e9 ee f2 31 32 30 34\n",
      "Откртый 2ой текст:  НаВашисходящийот1204\n"
     ]
    }
   ],
   "source": [
    "text1 = decryption(res2, res1, p2)"
   ]
  },
  {
   "cell_type": "code",
   "execution_count": null,
   "metadata": {},
   "outputs": [],
   "source": []
  }
 ],
 "metadata": {
  "kernelspec": {
   "display_name": "Python 3",
   "language": "python",
   "name": "python3"
  },
  "language_info": {
   "codemirror_mode": {
    "name": "ipython",
    "version": 3
   },
   "file_extension": ".py",
   "mimetype": "text/x-python",
   "name": "python",
   "nbconvert_exporter": "python",
   "pygments_lexer": "ipython3",
   "version": "3.8.3"
  }
 },
 "nbformat": 4,
 "nbformat_minor": 4
}
