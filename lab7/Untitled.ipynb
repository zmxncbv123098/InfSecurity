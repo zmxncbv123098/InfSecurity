{
 "cells": [
  {
   "cell_type": "code",
   "execution_count": 13,
   "metadata": {},
   "outputs": [],
   "source": [
    "import numpy as np\n",
    "\n",
    "np.random.seed(31415)"
   ]
  },
  {
   "cell_type": "code",
   "execution_count": 14,
   "metadata": {},
   "outputs": [],
   "source": [
    "def encryption(text=\"С новым годом, друзья!\"):\n",
    "    print(\"Открытый текст: \", text)\n",
    "    # Задам массив из символов открытого текста в шестнадцатеричном представлении:\n",
    "    text_array = []\n",
    "    for i in text:\n",
    "        text_array.append(i.encode(\"cp1251\").hex())\n",
    "    print(\"\\nОткрый текст в шестнадцатеричном представлении: \", *text_array)\n",
    "    \n",
    "    # Задам случайно сгенерированный ключ в шестнадцатеричном представлении:\n",
    "    key_dec = np.random.randint(0, 255, len(text))\n",
    "    key_hex = [hex(i)[2:] for i in key_dec]\n",
    "    print(\"\\nКлюч в шестнадцатеричном представлении: \", *key_hex)\n",
    "    \n",
    "    # Задам зашифрованный текст в шетснадцатеричном представлении:\n",
    "    crypt_text = []\n",
    "    for i in range(len(text_array)):\n",
    "        crypt_text.append(\"{:02x}\".format(int(text_array[i], 16) ^ int(key_hex[i], 16)))\n",
    "    print(\"\\nЗашифрованный текст в шестндцатеричном представлении: \", *crypt_text)\n",
    "    \n",
    "    # Задам зашифрованный текст в обычном представлении:\n",
    "    final_text = bytearray.fromhex(\"\".join(crypt_text)).decode(\"cp1251\")\n",
    "    print(\"\\nЗашифрованный текст: \", final_text)\n",
    "    return key_hex, final_text\n"
   ]
  },
  {
   "cell_type": "code",
   "execution_count": 15,
   "metadata": {},
   "outputs": [],
   "source": [
    "def decryption(text, final_text):\n",
    "    print(\"Открытый текст: \", text)\n",
    "    print(\"\\nЗашифрованный текст: \", final_text)\n",
    "    \n",
    "    # Задам массив из символов открытого текста в шестнадцатеричном представлении:\n",
    "    text_hex = []\n",
    "    for i in text:\n",
    "        text_hex.append(i.encode(\"cp1251\").hex())\n",
    "    print(\"\\nОткрый текст в шестнадцатеричном представлении: \", *text_hex)\n",
    "    \n",
    "    # Задам массив из символов зашифрованного текста в шестнадцатеричном представлении:\n",
    "    final_text_hex = []\n",
    "    for i in final_text:\n",
    "        final_text_hex.append(i.encode(\"cp1251\").hex())\n",
    "    print(\"\\nЗашифрованный текст в шестнадцатеричном представлении: \", *final_text_hex)\n",
    "    \n",
    "    # Найду ключ:\n",
    "    key = [hex(int(i, 16) ^ int(j, 16))[2:] for (i, j) in zip(text_hex, final_text_hex)]\n",
    "    print(\"\\nНужный ключ в шестнадцатеричном представлении: \", *key)\n",
    "    return key\n"
   ]
  },
  {
   "cell_type": "code",
   "execution_count": 16,
   "metadata": {},
   "outputs": [
    {
     "name": "stdout",
     "output_type": "stream",
     "text": [
      "Открытый текст:  С Новым Годом, друзья!\n",
      "\n",
      "Открый текст в шестнадцатеричном представлении:  d1 20 cd ee e2 fb ec 20 c3 ee e4 ee ec 2c 20 e4 f0 f3 e7 fc ff 21\n",
      "\n",
      "Ключ в шестнадцатеричном представлении:  e2 e5 1d 81 a4 a9 fe 7e 65 22 1d 1 76 71 3b 8e 69 5b f7 76 d0 72\n",
      "\n",
      "Зашифрованный текст в шестндцатеричном представлении:  33 c5 d0 6f 46 52 12 5e a6 cc f9 ef 9a 5d 1b 6a 99 a8 10 8a 2f 53\n",
      "\n",
      "Зашифрованный текст:  3ЕРoFR\u0012^¦Мщпљ]\u001bj™Ё\u0010Љ/S\n"
     ]
    }
   ],
   "source": [
    "# Изначальная фраза:\n",
    "phrase = \"С Новым Годом, друзья!\"\n",
    "# Получение сгенерированного ключа и зашифрованной фразы:\n",
    "crypt_key, crypt_text = encryption(phrase)\n"
   ]
  },
  {
   "cell_type": "code",
   "execution_count": 17,
   "metadata": {},
   "outputs": [
    {
     "name": "stdout",
     "output_type": "stream",
     "text": [
      "Открытый текст:  С Новым Годом, друзья!\n",
      "\n",
      "Зашифрованный текст:  3ЕРoFR\u0012^¦Мщпљ]\u001bj™Ё\u0010Љ/S\n",
      "\n",
      "Открый текст в шестнадцатеричном представлении:  d1 20 cd ee e2 fb ec 20 c3 ee e4 ee ec 2c 20 e4 f0 f3 e7 fc ff 21\n",
      "\n",
      "Зашифрованный текст в шестнадцатеричном представлении:  33 c5 d0 6f 46 52 12 5e a6 cc f9 ef 9a 5d 1b 6a 99 a8 10 8a 2f 53\n",
      "\n",
      "Нужный ключ в шестнадцатеричном представлении:  e2 e5 1d 81 a4 a9 fe 7e 65 22 1d 1 76 71 3b 8e 69 5b f7 76 d0 72\n"
     ]
    }
   ],
   "source": [
    "# Получение нужного ключа:\n",
    "key = decryption(phrase, crypt_text)\n"
   ]
  },
  {
   "cell_type": "code",
   "execution_count": 18,
   "metadata": {},
   "outputs": [
    {
     "name": "stdout",
     "output_type": "stream",
     "text": [
      "Ключ верен!\n"
     ]
    }
   ],
   "source": [
    "# Проверка правильности ключа:\n",
    "print(\"Ключ верен!\") if crypt_key == key else print(\"Ключ неверен!\")"
   ]
  }
 ],
 "metadata": {
  "kernelspec": {
   "display_name": "Python 3",
   "language": "python",
   "name": "python3"
  },
  "language_info": {
   "codemirror_mode": {
    "name": "ipython",
    "version": 3
   },
   "file_extension": ".py",
   "mimetype": "text/x-python",
   "name": "python",
   "nbconvert_exporter": "python",
   "pygments_lexer": "ipython3",
   "version": "3.8.3"
  }
 },
 "nbformat": 4,
 "nbformat_minor": 4
}
